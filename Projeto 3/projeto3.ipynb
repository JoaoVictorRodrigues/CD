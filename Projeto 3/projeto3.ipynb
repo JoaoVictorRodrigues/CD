{
 "cells": [
  {
   "cell_type": "markdown",
   "metadata": {},
   "source": [
    "# Projeto 3"
   ]
  },
  {
   "cell_type": "markdown",
   "metadata": {},
   "source": [
    "### Leonardo Medeiros e João Rodrigues"
   ]
  },
  {
   "cell_type": "markdown",
   "metadata": {},
   "source": [
    "Este projeto consiste em analisar a correlação entre váriaveis utilizando variaveis regressoras para explicar uma variavel dependente. Logo escolhemos como variáveis regressoras as variaveis GDH/Capita e HDI, essas duas variáveis servirão para explicar o comportamento da variavel Percepção de Corrupção, tal analise pode ser denominada como regressão multipla, a qual é utilizado mais de uma variavel resposta para explicar uma variavel explicativa."
   ]
  },
  {
   "cell_type": "code",
   "execution_count": 1,
   "metadata": {
    "collapsed": true
   },
   "outputs": [],
   "source": [
    "#Importação das blibliotecas\n",
    "%matplotlib inline\n",
    "\n",
    "import os\n",
    "import matplotlib.pyplot as plt\n",
    "from mpl_toolkits.mplot3d import Axes3D\n",
    "from matplotlib import cm\n",
    "import pandas as pd\n",
    "import numpy as np\n",
    "\n",
    "import statsmodels.api as sm1 #Usa OLS com X como matriz de planejamento\n",
    "import statsmodels.formula.api as sm  #Usa OLS como no R"
   ]
  },
  {
   "cell_type": "code",
   "execution_count": 2,
   "metadata": {
    "collapsed": false
   },
   "outputs": [
    {
     "ename": "FileNotFoundError",
     "evalue": "[Errno 2] No such file or directory: 'indicator ti cpi 2009.xlsx'",
     "output_type": "error",
     "traceback": [
      "\u001b[1;31m---------------------------------------------------------------------------\u001b[0m",
      "\u001b[1;31mFileNotFoundError\u001b[0m                         Traceback (most recent call last)",
      "\u001b[1;32m<ipython-input-2-e595c51827ba>\u001b[0m in \u001b[0;36m<module>\u001b[1;34m()\u001b[0m\n\u001b[0;32m      1\u001b[0m \u001b[1;31m#importação do database sem NaN\u001b[0m\u001b[1;33m\u001b[0m\u001b[1;33m\u001b[0m\u001b[0m\n\u001b[1;32m----> 2\u001b[1;33m \u001b[0mc1\u001b[0m \u001b[1;33m=\u001b[0m \u001b[0mpd\u001b[0m\u001b[1;33m.\u001b[0m\u001b[0mread_excel\u001b[0m\u001b[1;33m(\u001b[0m\u001b[1;34m\"indicator ti cpi 2009.xlsx\"\u001b[0m\u001b[1;33m,\u001b[0m\u001b[0mindex_col\u001b[0m \u001b[1;33m=\u001b[0m \u001b[1;36m0\u001b[0m\u001b[1;33m)\u001b[0m\u001b[1;33m\u001b[0m\u001b[0m\n\u001b[0m\u001b[0;32m      3\u001b[0m \u001b[0mc2\u001b[0m \u001b[1;33m=\u001b[0m \u001b[0mpd\u001b[0m\u001b[1;33m.\u001b[0m\u001b[0mread_excel\u001b[0m\u001b[1;33m(\u001b[0m\u001b[1;34m\"Indicator_HDI.xlsx\"\u001b[0m\u001b[1;33m,\u001b[0m\u001b[0mindex_col\u001b[0m \u001b[1;33m=\u001b[0m \u001b[1;36m0\u001b[0m\u001b[1;33m)\u001b[0m\u001b[1;33m\u001b[0m\u001b[0m\n\u001b[0;32m      4\u001b[0m \u001b[0mc3\u001b[0m \u001b[1;33m=\u001b[0m \u001b[0mpd\u001b[0m\u001b[1;33m.\u001b[0m\u001b[0mread_excel\u001b[0m\u001b[1;33m(\u001b[0m\u001b[1;34m\"GDPpercapitaconstant2000US.xlsx\"\u001b[0m\u001b[1;33m,\u001b[0m\u001b[0mindex_col\u001b[0m \u001b[1;33m=\u001b[0m \u001b[1;36m0\u001b[0m\u001b[1;33m)\u001b[0m\u001b[1;33m\u001b[0m\u001b[0m\n",
      "\u001b[1;32mC:\\Anaconda3\\lib\\site-packages\\pandas\\io\\excel.py\u001b[0m in \u001b[0;36mread_excel\u001b[1;34m(io, sheetname, header, skiprows, skip_footer, index_col, parse_cols, parse_dates, date_parser, na_values, thousands, convert_float, has_index_names, converters, engine, **kwds)\u001b[0m\n\u001b[0;32m    161\u001b[0m \u001b[1;33m\u001b[0m\u001b[0m\n\u001b[0;32m    162\u001b[0m     \u001b[1;32mif\u001b[0m \u001b[1;32mnot\u001b[0m \u001b[0misinstance\u001b[0m\u001b[1;33m(\u001b[0m\u001b[0mio\u001b[0m\u001b[1;33m,\u001b[0m \u001b[0mExcelFile\u001b[0m\u001b[1;33m)\u001b[0m\u001b[1;33m:\u001b[0m\u001b[1;33m\u001b[0m\u001b[0m\n\u001b[1;32m--> 163\u001b[1;33m         \u001b[0mio\u001b[0m \u001b[1;33m=\u001b[0m \u001b[0mExcelFile\u001b[0m\u001b[1;33m(\u001b[0m\u001b[0mio\u001b[0m\u001b[1;33m,\u001b[0m \u001b[0mengine\u001b[0m\u001b[1;33m=\u001b[0m\u001b[0mengine\u001b[0m\u001b[1;33m)\u001b[0m\u001b[1;33m\u001b[0m\u001b[0m\n\u001b[0m\u001b[0;32m    164\u001b[0m \u001b[1;33m\u001b[0m\u001b[0m\n\u001b[0;32m    165\u001b[0m     return io._parse_excel(\n",
      "\u001b[1;32mC:\\Anaconda3\\lib\\site-packages\\pandas\\io\\excel.py\u001b[0m in \u001b[0;36m__init__\u001b[1;34m(self, io, **kwds)\u001b[0m\n\u001b[0;32m    204\u001b[0m                 \u001b[0mself\u001b[0m\u001b[1;33m.\u001b[0m\u001b[0mbook\u001b[0m \u001b[1;33m=\u001b[0m \u001b[0mxlrd\u001b[0m\u001b[1;33m.\u001b[0m\u001b[0mopen_workbook\u001b[0m\u001b[1;33m(\u001b[0m\u001b[0mfile_contents\u001b[0m\u001b[1;33m=\u001b[0m\u001b[0mdata\u001b[0m\u001b[1;33m)\u001b[0m\u001b[1;33m\u001b[0m\u001b[0m\n\u001b[0;32m    205\u001b[0m             \u001b[1;32melse\u001b[0m\u001b[1;33m:\u001b[0m\u001b[1;33m\u001b[0m\u001b[0m\n\u001b[1;32m--> 206\u001b[1;33m                 \u001b[0mself\u001b[0m\u001b[1;33m.\u001b[0m\u001b[0mbook\u001b[0m \u001b[1;33m=\u001b[0m \u001b[0mxlrd\u001b[0m\u001b[1;33m.\u001b[0m\u001b[0mopen_workbook\u001b[0m\u001b[1;33m(\u001b[0m\u001b[0mio\u001b[0m\u001b[1;33m)\u001b[0m\u001b[1;33m\u001b[0m\u001b[0m\n\u001b[0m\u001b[0;32m    207\u001b[0m         \u001b[1;32melif\u001b[0m \u001b[0mengine\u001b[0m \u001b[1;33m==\u001b[0m \u001b[1;34m'xlrd'\u001b[0m \u001b[1;32mand\u001b[0m \u001b[0misinstance\u001b[0m\u001b[1;33m(\u001b[0m\u001b[0mio\u001b[0m\u001b[1;33m,\u001b[0m \u001b[0mxlrd\u001b[0m\u001b[1;33m.\u001b[0m\u001b[0mBook\u001b[0m\u001b[1;33m)\u001b[0m\u001b[1;33m:\u001b[0m\u001b[1;33m\u001b[0m\u001b[0m\n\u001b[0;32m    208\u001b[0m             \u001b[0mself\u001b[0m\u001b[1;33m.\u001b[0m\u001b[0mbook\u001b[0m \u001b[1;33m=\u001b[0m \u001b[0mio\u001b[0m\u001b[1;33m\u001b[0m\u001b[0m\n",
      "\u001b[1;32mC:\\Anaconda3\\lib\\site-packages\\xlrd\\__init__.py\u001b[0m in \u001b[0;36mopen_workbook\u001b[1;34m(filename, logfile, verbosity, use_mmap, file_contents, encoding_override, formatting_info, on_demand, ragged_rows)\u001b[0m\n\u001b[0;32m    392\u001b[0m         \u001b[0mpeek\u001b[0m \u001b[1;33m=\u001b[0m \u001b[0mfile_contents\u001b[0m\u001b[1;33m[\u001b[0m\u001b[1;33m:\u001b[0m\u001b[0mpeeksz\u001b[0m\u001b[1;33m]\u001b[0m\u001b[1;33m\u001b[0m\u001b[0m\n\u001b[0;32m    393\u001b[0m     \u001b[1;32melse\u001b[0m\u001b[1;33m:\u001b[0m\u001b[1;33m\u001b[0m\u001b[0m\n\u001b[1;32m--> 394\u001b[1;33m         \u001b[0mf\u001b[0m \u001b[1;33m=\u001b[0m \u001b[0mopen\u001b[0m\u001b[1;33m(\u001b[0m\u001b[0mfilename\u001b[0m\u001b[1;33m,\u001b[0m \u001b[1;34m\"rb\"\u001b[0m\u001b[1;33m)\u001b[0m\u001b[1;33m\u001b[0m\u001b[0m\n\u001b[0m\u001b[0;32m    395\u001b[0m         \u001b[0mpeek\u001b[0m \u001b[1;33m=\u001b[0m \u001b[0mf\u001b[0m\u001b[1;33m.\u001b[0m\u001b[0mread\u001b[0m\u001b[1;33m(\u001b[0m\u001b[0mpeeksz\u001b[0m\u001b[1;33m)\u001b[0m\u001b[1;33m\u001b[0m\u001b[0m\n\u001b[0;32m    396\u001b[0m         \u001b[0mf\u001b[0m\u001b[1;33m.\u001b[0m\u001b[0mclose\u001b[0m\u001b[1;33m(\u001b[0m\u001b[1;33m)\u001b[0m\u001b[1;33m\u001b[0m\u001b[0m\n",
      "\u001b[1;31mFileNotFoundError\u001b[0m: [Errno 2] No such file or directory: 'indicator ti cpi 2009.xlsx'"
     ]
    }
   ],
   "source": [
    "#importação do database sem NaN\n",
    "c1 = pd.read_excel(\"indicator ti cpi 2009.xlsx\",index_col = 0)\n",
    "c2 = pd.read_excel(\"Indicator_HDI.xlsx\",index_col = 0)\n",
    "c3 = pd.read_excel(\"GDPpercapitaconstant2000US.xlsx\",index_col = 0)\n"
   ]
  },
  {
   "cell_type": "code",
   "execution_count": null,
   "metadata": {
    "collapsed": false
   },
   "outputs": [],
   "source": [
    "#junção dos dados\n",
    "dados = c1.join(c2,how =\"outer\")\n",
    "dados = dados.join(c3,how=\"outer\")\n",
    "\n",
    "\n",
    "#Retirando NaN\n",
    "dados=dados[~np.isnan(dados.Cr)]\n",
    "dados=dados[~np.isnan(dados.HDI)]\n",
    "dados=dados[~np.isnan(dados.Ip)]\n",
    "dados.head()"
   ]
  },
  {
   "cell_type": "markdown",
   "metadata": {},
   "source": [
    "Nesta etapa foi usada a ferramenta online ..., que permite a vizualização do cruzamento de variáveis. Abaixo estão as variáveis escolidas pelo grupo, referentes ao ano de 2010, onde graficamente, já é possivel ver uma correlação linear."
   ]
  },
  {
   "cell_type": "markdown",
   "metadata": {},
   "source": [
    "#### Análisando as variaveis conjuntamente obtemos o seguinte grafico:\n",
    "\n"
   ]
  },
  {
   "cell_type": "markdown",
   "metadata": {
    "collapsed": false
   },
   "source": [
    "Grafico Corrupition Perception X HDI\n",
    "\n",
    "<img src=\"corr2.png\"style=\"width:50%; weight: 50%\">"
   ]
  },
  {
   "cell_type": "markdown",
   "metadata": {
    "collapsed": false
   },
   "source": [
    "Gráfico Corrupition Perception X GDP/Capita\n",
    "\n",
    "<img src=\"corr1.png\" style= \"width:50%; weight: 50%\">"
   ]
  },
  {
   "cell_type": "markdown",
   "metadata": {},
   "source": [
    "### Análise Descritiva"
   ]
  },
  {
   "cell_type": "markdown",
   "metadata": {},
   "source": [
    "Na etapa de análise, com  a base de dados ja carregadas, fizemos o cruzamento dos dados graficamente, afim de obter um resultado semelhante ao obtido em ..."
   ]
  },
  {
   "cell_type": "code",
   "execution_count": null,
   "metadata": {
    "collapsed": false
   },
   "outputs": [],
   "source": [
    "#Gráfico Criminalidade X IDH\n",
    "f, ax = plt.subplots(1,2,figsize=(16,4))\n",
    "ax[0].scatter(dados.HDI, dados.Cr, alpha=0.7)  # Plot the raw data\n",
    "ax[0].set_xlabel(\"IDH\")\n",
    "ax[0].set_ylabel(\"Índice de Percepção de Criminalidade\")\n",
    "ax[0].set_yscale('log')\n",
    "\n",
    "#Gráfico Criminalidade X IP\n",
    "ax[1].scatter(dados.Ip, dados.Cr, alpha=0.7)  # Plot the raw data\n",
    "ax[1].set_xlabel(\"Pib Per Capita\")\n",
    "ax[1].set_ylabel(\"Índice de Percepção de Criminalidade\")\n",
    "ax[1].set_yscale('log')\n",
    "ax[1].set_xscale('log')\n",
    "\n",
    "#pl = np.polyfit(dados.Cr,dados.HDI,1)\n",
    "#plt.plot(dados.Cr,np.polyval(pl,dados.Cr))\n",
    "plt.tight_layout(1)"
   ]
  },
  {
   "cell_type": "code",
   "execution_count": null,
   "metadata": {
    "collapsed": false
   },
   "outputs": [],
   "source": [
    "dados.corr(method = 'pearson')"
   ]
  },
  {
   "cell_type": "markdown",
   "metadata": {},
   "source": [
    "Atraves dos dados obtidos perceb-se que a correlação entre as variveis indice de perepção de criminalidade e Indice de desenvolvimento humano e proximo de 1, assim como ocorre entre as variaveis indedice de percepção de criminalidade de criminalidade com o pib per capita."
   ]
  },
  {
   "cell_type": "code",
   "execution_count": null,
   "metadata": {
    "collapsed": false
   },
   "outputs": [],
   "source": [
    "dados['Ip']= np.log(dados['Ip'])\n",
    "dados['HDI']=np.log(dados['HDI'])"
   ]
  },
  {
   "cell_type": "markdown",
   "metadata": {},
   "source": [
    "## Ajuste Do Modelo De Regressão"
   ]
  },
  {
   "cell_type": "code",
   "execution_count": null,
   "metadata": {
    "collapsed": false
   },
   "outputs": [],
   "source": [
    "## from mpl_toolkits.mplot3d import Axes3D\n",
    "%matplotlib notebook\n",
    "\n",
    "X = dados[['Ip', 'HDI']]\n",
    "y = dados['Cr']\n",
    "\n",
    "X = sm1.add_constant(X)\n",
    "est = sm1.OLS(y, X).fit()\n",
    "\n",
    "xx1, xx2 = np.meshgrid(np.linspace(X.Ip.min(), X.Ip.max(), 100), \n",
    "                       np.linspace(X.HDI.min(), X.HDI.max(), 100))\n",
    "\n",
    "Z = est.params[0] + est.params[1] * xx1 + est.params[2] * xx2\n",
    "\n",
    "fig = plt.figure(figsize=(10, 6))\n",
    "ax = Axes3D(fig, azim=-115, elev=15)\n",
    "\n",
    "surf = ax.plot_surface(xx1, xx2, Z, cmap=plt.cm.RdBu_r, alpha=0.6, linewidth=0)\n",
    "\n",
    "resid = y - est.predict(X)\n",
    "ax.scatter(X[resid >= 0].Ip, X[resid >= 0].HDI, y[resid >= 0], color='red', alpha=1.0, facecolor='white')\n",
    "ax.scatter(X[resid < 0].Ip, X[resid < 0].HDI, y[resid < 0], color='black', alpha=1.0)\n",
    "\n",
    "ax.set_xlabel('IP')\n",
    "ax.set_ylabel('IDH')\n",
    "ax.set_zlabel('Cr')\n"
   ]
  },
  {
   "cell_type": "code",
   "execution_count": null,
   "metadata": {
    "collapsed": false,
    "scrolled": false
   },
   "outputs": [],
   "source": [
    "#Linear Regression \n",
    "\n",
    "#Montagem dos dados\n",
    "y=dados.Cr\n",
    "X=dados.iloc[:,(1,2)]\n",
    "X=sm1.add_constant(X)  # Adds a constant term to the predictor\n",
    "X.head()\n",
    "\n",
    "model=sm1.OLS(y, X)\n",
    "fit=model.fit()\n",
    "fit.summary()"
   ]
  },
  {
   "cell_type": "markdown",
   "metadata": {},
   "source": [
    "## Teste de Hipoteses"
   ]
  },
  {
   "cell_type": "markdown",
   "metadata": {},
   "source": [
    "Fromulando o teste de hipoteses para nossa variavel de indece de desenvolvimento humano temos H0: B=0, H1: B=/1 Analisando os dados obtidos notamos que o valor p e menor que o nivel de significancia de 5%, logo rejeitamos a hipótese Ho. Assim como ocorre com nossa segunda variavel na qual temos as hipoteses H0: B=0 e H1: B =/1 , temos a mesma situação. Ao rejeitar ambas as hipoteses nulas temos que as duas variaveissao relevantes no modelo"
   ]
  },
  {
   "cell_type": "code",
   "execution_count": null,
   "metadata": {
    "collapsed": false
   },
   "outputs": [],
   "source": [
    "%matplotlib inline\n",
    "plt.plot(dados.Ip,fit.resid,\"o\")\n",
    "plt.show()"
   ]
  },
  {
   "cell_type": "markdown",
   "metadata": {
    "collapsed": true
   },
   "source": [
    "Atraves dos resultados de residuos obtidos notamos que o a variavel de indice de desenvolvimento humano possui um residuo com variancia constante"
   ]
  },
  {
   "cell_type": "code",
   "execution_count": null,
   "metadata": {
    "collapsed": false
   },
   "outputs": [],
   "source": [
    "plt.plot(dados.HDI,fit.resid,\"o\")\n"
   ]
  },
  {
   "cell_type": "markdown",
   "metadata": {},
   "source": [
    "Atraves dos resultados de residuos obtidos notamos que o a variavel de indice de desenvolvimento humano possui um residuo ideal"
   ]
  },
  {
   "cell_type": "code",
   "execution_count": null,
   "metadata": {
    "collapsed": false
   },
   "outputs": [],
   "source": [
    "#Teste de White\n",
    "#ver link https://pt.wikipedia.org/wiki/Teste_de_White\n",
    "#y estimados\n",
    "y_hat = fit.predict(X)\n",
    "\n",
    "#Resíduos quadráticos\n",
    "res2=(y-y_hat)**2\n",
    "\n",
    "sm1.stats.diagnostic.het_white(res2,X)"
   ]
  },
  {
   "cell_type": "markdown",
   "metadata": {},
   "source": [
    "O nosso projeto tenta mostrar quais são os fatores que que influenciam na percepção de corrupção, ja que o tema é muito descutido ultimamente, nós buscamos entender o que levaria uma população reconhecer ou nao a corrupoção, para isso usamos as variáveis IDH, que mostra o quanto uma população é desenvolvida levando em consideração variáveis como saúde e educação, assim como a qualidade de vida, e a variável PIB per capita, visando analisar, além das perspectivas acima, o âmbito economico."
   ]
  },
  {
   "cell_type": "markdown",
   "metadata": {},
   "source": [
    "## Sub Grupos"
   ]
  },
  {
   "cell_type": "markdown",
   "metadata": {},
   "source": [
    "Para analisar se o modelo global tambem se aplica em modelos locais dividimos os paises em subgrupos, utilizando como divisor a variavel de poncentagel populacional que concluio o ensino primário."
   ]
  },
  {
   "cell_type": "code",
   "execution_count": null,
   "metadata": {
    "collapsed": false
   },
   "outputs": [],
   "source": [
    "c4 = pd.read_excel('Completition rate total.xlsx',index_col = 0)"
   ]
  },
  {
   "cell_type": "code",
   "execution_count": null,
   "metadata": {
    "collapsed": false
   },
   "outputs": [],
   "source": [
    "#junção dos dados\n",
    "dados2 = c1.join(c2,how =\"outer\")\n",
    "dados2 = dados2.join(c3,how=\"outer\")\n",
    "dados2 = dados2.join(c4,how = \"outer\")\n",
    "\n",
    "#Retirando NaN\n",
    "dados2=dados2[~np.isnan(dados2.Cr)]\n",
    "dados2=dados2[~np.isnan(dados2.HDI)]\n",
    "dados2=dados2[~np.isnan(dados2.Ip)]\n",
    "dados2=dados2[~np.isnan(dados2.CpRate)]\n",
    "dados2.head()"
   ]
  },
  {
   "cell_type": "code",
   "execution_count": null,
   "metadata": {
    "collapsed": false
   },
   "outputs": [],
   "source": [
    "filtro = 60\n",
    "dados2A = dados2[dados2.CpRate <= filtro]\n",
    "dados2B = dados2[dados2.CpRate > filtro ]"
   ]
  },
  {
   "cell_type": "markdown",
   "metadata": {},
   "source": [
    "## Analise Sub Grupo A"
   ]
  },
  {
   "cell_type": "code",
   "execution_count": null,
   "metadata": {
    "collapsed": false
   },
   "outputs": [],
   "source": [
    "#Linear Regression \n",
    "\n",
    "#Montagem dos dados\n",
    "y=dados2A.Cr\n",
    "X=dados2A.iloc[:,(1,2)]\n",
    "X=sm1.add_constant(X)  # Adds a constant term to the predictor\n",
    "X.head()\n",
    "\n",
    "model=sm1.OLS(y, X)\n",
    "fit=model.fit()\n",
    "fit.summary()"
   ]
  },
  {
   "cell_type": "code",
   "execution_count": null,
   "metadata": {
    "collapsed": false
   },
   "outputs": [],
   "source": [
    "## from mpl_toolkits.mplot3d import Axes3D\n",
    "%matplotlib notebook\n",
    "\n",
    "X = dados2A[['Ip', 'HDI']]\n",
    "y = dados2A['Cr']\n",
    "\n",
    "X = sm1.add_constant(X)\n",
    "est = sm1.OLS(y, X).fit()\n",
    "\n",
    "xx1, xx2 = np.meshgrid(np.linspace(X.Ip.min(), X.Ip.max(), 100), \n",
    "                       np.linspace(X.HDI.min(), X.HDI.max(), 100))\n",
    "\n",
    "Z = est.params[0] + est.params[1] * xx1 + est.params[2] * xx2\n",
    "\n",
    "fig = plt.figure(figsize=(10, 6))\n",
    "ax = Axes3D(fig, azim=-115, elev=15)\n",
    "\n",
    "surf = ax.plot_surface(xx1, xx2, Z, cmap=plt.cm.RdBu_r, alpha=0.6, linewidth=0)\n",
    "\n",
    "resid = y - est.predict(X)\n",
    "ax.scatter(X[resid >= 0].Ip, X[resid >= 0].HDI, y[resid >= 0], color='red', alpha=1.0, facecolor='white')\n",
    "ax.scatter(X[resid < 0].Ip, X[resid < 0].HDI, y[resid < 0], color='black', alpha=1.0)\n",
    "\n",
    "ax.set_xlabel('IP')\n",
    "ax.set_ylabel('IDH')\n",
    "ax.set_zlabel('Cr')"
   ]
  },
  {
   "cell_type": "markdown",
   "metadata": {
    "collapsed": true
   },
   "source": [
    "Analise"
   ]
  },
  {
   "cell_type": "markdown",
   "metadata": {},
   "source": [
    "## Analise Sub Grupo B"
   ]
  },
  {
   "cell_type": "code",
   "execution_count": null,
   "metadata": {
    "collapsed": false
   },
   "outputs": [],
   "source": [
    "#Linear Regression \n",
    "\n",
    "#Montagem dos dados\n",
    "y=dados2B.Cr\n",
    "X=dados2B.iloc[:,(1,2)]\n",
    "X=sm1.add_constant(X)  # Adds a constant term to the predictor\n",
    "X.head()\n",
    "\n",
    "model=sm1.OLS(y, X)\n",
    "fit=model.fit()\n",
    "fit.summary()"
   ]
  },
  {
   "cell_type": "code",
   "execution_count": null,
   "metadata": {
    "collapsed": false
   },
   "outputs": [],
   "source": [
    "## from mpl_toolkits.mplot3d import Axes3D\n",
    "%matplotlib notebook\n",
    "\n",
    "X = dados2B[['Ip', 'HDI']]\n",
    "y = dados2B['Cr']\n",
    "\n",
    "X = sm1.add_constant(X)\n",
    "est = sm1.OLS(y, X).fit()\n",
    "\n",
    "xx1, xx2 = np.meshgrid(np.linspace(X.Ip.min(), X.Ip.max(), 100), \n",
    "                       np.linspace(X.HDI.min(), X.HDI.max(), 100))\n",
    "\n",
    "Z = est.params[0] + est.params[1] * xx1 + est.params[2] * xx2\n",
    "\n",
    "fig = plt.figure(figsize=(10, 6))\n",
    "ax = Axes3D(fig, azim=-115, elev=15)\n",
    "\n",
    "surf = ax.plot_surface(xx1, xx2, Z, cmap=plt.cm.RdBu_r, alpha=0.6, linewidth=0)\n",
    "\n",
    "resid = y - est.predict(X)\n",
    "ax.scatter(X[resid >= 0].Ip, X[resid >= 0].HDI, y[resid >= 0], color='red', alpha=1.0, facecolor='white')\n",
    "ax.scatter(X[resid < 0].Ip, X[resid < 0].HDI, y[resid < 0], color='black', alpha=1.0)\n",
    "\n",
    "ax.set_xlabel('IP')\n",
    "ax.set_ylabel('IDH')\n",
    "ax.set_zlabel('Cr')"
   ]
  },
  {
   "cell_type": "markdown",
   "metadata": {
    "collapsed": true
   },
   "source": [
    "Analise"
   ]
  },
  {
   "cell_type": "markdown",
   "metadata": {
    "collapsed": true
   },
   "source": [
    "## Conclusão\n"
   ]
  },
  {
   "cell_type": "markdown",
   "metadata": {
    "collapsed": true
   },
   "source": [
    "Após toda a análise podemos ver que a variável \"Percepção de corrupção\" é, de certa forma, complexa, ja que há diversos parametros que podem ser levados em consideração para se obter tal dado, porem com as nossas análises nos verificamos que o IDH é mas variável que ajuda explicar o parametro escolhido, como demosntrado através dos gáficos acima, o cruzamento de tais variáveis apresenta um sentido matemático que se espelha na realidade, mostrando que países em que o IDH é baixo, a percepção da corrupção é mais baixa."
   ]
  },
  {
   "cell_type": "code",
   "execution_count": null,
   "metadata": {
    "collapsed": true
   },
   "outputs": [],
   "source": []
  }
 ],
 "metadata": {
  "kernelspec": {
   "display_name": "Python 3",
   "language": "python",
   "name": "python3"
  },
  "language_info": {
   "codemirror_mode": {
    "name": "ipython",
    "version": 3
   },
   "file_extension": ".py",
   "mimetype": "text/x-python",
   "name": "python",
   "nbconvert_exporter": "python",
   "pygments_lexer": "ipython3",
   "version": "3.5.1"
  }
 },
 "nbformat": 4,
 "nbformat_minor": 0
}
