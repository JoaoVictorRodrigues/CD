{
 "cells": [
  {
   "cell_type": "markdown",
   "metadata": {},
   "source": [
    "___\n",
    "# PROJETO 1"
   ]
  },
  {
   "cell_type": "markdown",
   "metadata": {},
   "source": [
    "## <font color='red'>João Victor Rodrigues Silva</font>\n",
    "___"
   ]
  },
  {
   "cell_type": "markdown",
   "metadata": {},
   "source": [
    "## <font color='blue'>Comparação de renda entre os aposentados do Brasil</font>"
   ]
  },
  {
   "cell_type": "markdown",
   "metadata": {},
   "source": [
    "## Introdução\n",
    "\n",
    "Meu objetivo é comparar os diferenstes grupos de aposentados, desde aquele que recebem o piso salarial ate os que vivem numa situação confortavel a sua terceira idade!\n",
    "\n",
    "A pesquisa que me motivou a iniciar esse estudo foi o alto nivel de emprestimos que os idosos fizeram em 2014, demonstrando que há algo a ser investigado.\n",
    "\n",
    "fonte: http://g1.globo.com/hora1/noticia/2014/12/situacao-de-aposentados-com-emprestimo-consignado-preocupa.html"
   ]
  },
  {
   "cell_type": "markdown",
   "metadata": {},
   "source": [
    "___\n",
    "# Análise e Resultados"
   ]
  },
  {
   "cell_type": "code",
   "execution_count": 190,
   "metadata": {
    "collapsed": true
   },
   "outputs": [],
   "source": [
    "%matplotlib inline\n",
    "import pandas as pd\n",
    "import matplotlib.pyplot as plt\n",
    "import numpy as np\n",
    "import os"
   ]
  },
  {
   "cell_type": "code",
   "execution_count": 191,
   "metadata": {
    "collapsed": false
   },
   "outputs": [
    {
     "name": "stdout",
     "output_type": "stream",
     "text": [
      "Esperamos trabalhar no diretório\n",
      "C:\\Users\\João Rodrigues\\Documents\\Ciencia dos Dados\\CD\\Projeto 1\n"
     ]
    }
   ],
   "source": [
    "print('Esperamos trabalhar no diretório')\n",
    "print(os.getcwd())"
   ]
  },
  {
   "cell_type": "code",
   "execution_count": 4,
   "metadata": {
    "collapsed": false
   },
   "outputs": [],
   "source": [
    "d2014 = pd.read_csv(\"PES2014.csv.\", sep=\",\")"
   ]
  },
  {
   "cell_type": "code",
   "execution_count": 203,
   "metadata": {
    "collapsed": false
   },
   "outputs": [],
   "source": [
    "d2014[\"idade\"] = d2014.V8005\n",
    "d2014[\"idosos\"] = d2014.idade[(d2014.idade>=60)]\n",
    "d2014[\"aposentados\"] = d2014.V9122 [(d2014.V9122==2)]\n",
    "d2014[\"trabtemporario\"] = d2014.V9012\n",
    "d2014[\"sexo\"] = d2014.V0302\n",
    "d2014[\"sexMas\"] = d2014.aposentados[(d2014.sexo == 2)]\n",
    "d2014[\"sexFem\"] = d2014.aposentados[(d2014.sexo == 4)]\n",
    "d2014[\"salario\"] = d2014.V1252[(d2014.V1252!=999999999999)]\n",
    "d2014[\"tempo_livre\"] = d2014.V9921[(d2014.V9921<99)]\n",
    "d2014[\"trabalhando\"] = d2014.V0701\n",
    "d2014[\"regiao\"] = d2014.UF"
   ]
  },
  {
   "cell_type": "code",
   "execution_count": 161,
   "metadata": {
    "collapsed": true
   },
   "outputs": [
    {
     "data": {
      "text/plain": [
       "<matplotlib.text.Text at 0x13a8b64add8>"
      ]
     },
     "execution_count": 161,
     "metadata": {},
     "output_type": "execute_result"
    },
    {
     "data": {
      "image/png": "[encoded data removed]",
      "text/plain": [
       "<matplotlib.figure.Figure at 0x13a81a12c88>"
      ]
     },
     "metadata": {},
     "output_type": "display_data"
    }
   ],
   "source": [
    "sexo = d2014.sexo.astype(\"category\")\n",
    "sexo.cat.categories = (\"Masculino\",\"Feminino\")\n",
    "\n",
    "A = pd.crosstab(sexo,d2014.aposentados)\n",
    "plot1=A.plot(kind=\"bar\",title= \"Aposentaos\",figsize=(5,5), color=(\"b\",\"m\"))\n",
    "plt.ylabel(\"N° de pessoas (em milhares)\")"
   ]
  },
  {
   "cell_type": "code",
   "execution_count": 139,
   "metadata": {
    "collapsed": true
   },
   "outputs": [
    {
     "name": "stderr",
     "output_type": "stream",
     "text": [
      "C:\\Anaconda3\\lib\\site-packages\\ipykernel\\__main__.py:1: SettingWithCopyWarning: \n",
      "A value is trying to be set on a copy of a slice from a DataFrame\n",
      "\n",
      "See the caveats in the documentation: http://pandas.pydata.org/pandas-docs/stable/indexing.html#indexing-view-versus-copy\n",
      "  if __name__ == '__main__':\n",
      "C:\\Anaconda3\\lib\\site-packages\\ipykernel\\__main__.py:2: SettingWithCopyWarning: \n",
      "A value is trying to be set on a copy of a slice from a DataFrame\n",
      "\n",
      "See the caveats in the documentation: http://pandas.pydata.org/pandas-docs/stable/indexing.html#indexing-view-versus-copy\n",
      "  from ipykernel import kernelapp as app\n",
      "C:\\Anaconda3\\lib\\site-packages\\ipykernel\\__main__.py:3: SettingWithCopyWarning: \n",
      "A value is trying to be set on a copy of a slice from a DataFrame\n",
      "\n",
      "See the caveats in the documentation: http://pandas.pydata.org/pandas-docs/stable/indexing.html#indexing-view-versus-copy\n",
      "  app.launch_new_instance()\n",
      "C:\\Anaconda3\\lib\\site-packages\\ipykernel\\__main__.py:4: SettingWithCopyWarning: \n",
      "A value is trying to be set on a copy of a slice from a DataFrame\n",
      "\n",
      "See the caveats in the documentation: http://pandas.pydata.org/pandas-docs/stable/indexing.html#indexing-view-versus-copy\n",
      "C:\\Anaconda3\\lib\\site-packages\\ipykernel\\__main__.py:5: SettingWithCopyWarning: \n",
      "A value is trying to be set on a copy of a slice from a DataFrame\n",
      "\n",
      "See the caveats in the documentation: http://pandas.pydata.org/pandas-docs/stable/indexing.html#indexing-view-versus-copy\n"
     ]
    },
    {
     "data": {
      "text/plain": [
       "<matplotlib.text.Text at 0x13a88c03470>"
      ]
     },
     "execution_count": 139,
     "metadata": {},
     "output_type": "execute_result"
    },
    {
     "data": {
      "image/png": "[encoded data removed]",
      "text/plain": [
       "<matplotlib.figure.Figure at 0x13a8113deb8>"
      ]
     },
     "metadata": {},
     "output_type": "display_data"
    }
   ],
   "source": [
    "d2014.regiao[(d2014.UF >= 10) & (d2014.UF < 20)] = 1\n",
    "d2014.regiao[(d2014.UF >= 20) & (d2014.UF < 30)] = 2\n",
    "d2014.regiao[(d2014.UF >= 30) & (d2014.UF < 40)] = 3\n",
    "d2014.regiao[(d2014.UF >= 40) & (d2014.UF < 50)] = 4\n",
    "d2014.regiao[(d2014.UF >= 50) & (d2014.UF < 60)] = 5\n",
    "\n",
    "regiao = d2014.regiao.astype('category')\n",
    "regiao.cat.categories = ('Norte', 'Nordeste', 'Sudeste', 'Sul', 'Centro-Oeste')\n",
    "\n",
    "#Ut = regiao.value_counts().round(decimals=1)\n",
    "#print(Ut,'\\n')\n",
    "\n",
    "C= pd.crosstab(regiao,d2014.aposentados)\n",
    "\n",
    "plot = C.plot(kind='bar',title='Regiao',figsize=(6, 6),color=('b','g','c','r','y','c','y'))\n",
    "plt.ylabel('\"N° de pessoas\"')\n",
    "plt.xlabel('Regiões')\n"
   ]
  },
  {
   "cell_type": "code",
   "execution_count": 136,
   "metadata": {
    "collapsed": true
   },
   "outputs": [
    {
     "data": {
      "text/plain": [
       "<matplotlib.text.Text at 0x13a8b9f2ef0>"
      ]
     },
     "execution_count": 136,
     "metadata": {},
     "output_type": "execute_result"
    },
    {
     "data": {
      "image/png": "[encoded data removed]",
      "text/plain": [
       "<matplotlib.figure.Figure at 0x13a8a1dfc88>"
      ]
     },
     "metadata": {},
     "output_type": "display_data"
    }
   ],
   "source": [
    "D = pd.crosstab(regiao,d2014.sexFem)\n",
    "plot = d.plot(kind='bar',title='Mulheres Aposentadas em cada região',figsize=(6, 6),color=(\"m\"))\n",
    "plt.ylabel('\"N° de aposentadas\"')"
   ]
  },
  {
   "cell_type": "code",
   "execution_count": 199,
   "metadata": {
    "collapsed": true
   },
   "outputs": [
    {
     "data": {
      "text/html": [
       "<div>\n",
       "<table border=\"1\" class=\"dataframe\">\n",
       "  <thead>\n",
       "    <tr style=\"text-align: right;\">\n",
       "      <th>sexFem</th>\n",
       "      <th>2.0</th>\n",
       "    </tr>\n",
       "    <tr>\n",
       "      <th>salario</th>\n",
       "      <th></th>\n",
       "    </tr>\n",
       "  </thead>\n",
       "  <tbody>\n",
       "    <tr>\n",
       "      <th>(600, 800]</th>\n",
       "      <td>14267</td>\n",
       "    </tr>\n",
       "    <tr>\n",
       "      <th>(800, 1000]</th>\n",
       "      <td>758</td>\n",
       "    </tr>\n",
       "    <tr>\n",
       "      <th>(1000, 1200]</th>\n",
       "      <td>562</td>\n",
       "    </tr>\n",
       "    <tr>\n",
       "      <th>(1200, 1400]</th>\n",
       "      <td>399</td>\n",
       "    </tr>\n",
       "    <tr>\n",
       "      <th>(1400, 1600]</th>\n",
       "      <td>556</td>\n",
       "    </tr>\n",
       "    <tr>\n",
       "      <th>(1600, 1800]</th>\n",
       "      <td>255</td>\n",
       "    </tr>\n",
       "    <tr>\n",
       "      <th>(1800, 2000]</th>\n",
       "      <td>410</td>\n",
       "    </tr>\n",
       "    <tr>\n",
       "      <th>(2000, 2200]</th>\n",
       "      <td>251</td>\n",
       "    </tr>\n",
       "    <tr>\n",
       "      <th>(2200, 2400]</th>\n",
       "      <td>123</td>\n",
       "    </tr>\n",
       "    <tr>\n",
       "      <th>(2400, 2600]</th>\n",
       "      <td>204</td>\n",
       "    </tr>\n",
       "    <tr>\n",
       "      <th>(2600, 2800]</th>\n",
       "      <td>103</td>\n",
       "    </tr>\n",
       "    <tr>\n",
       "      <th>(2800, 3000]</th>\n",
       "      <td>260</td>\n",
       "    </tr>\n",
       "    <tr>\n",
       "      <th>(3000, 3200]</th>\n",
       "      <td>97</td>\n",
       "    </tr>\n",
       "    <tr>\n",
       "      <th>(3200, 3400]</th>\n",
       "      <td>47</td>\n",
       "    </tr>\n",
       "    <tr>\n",
       "      <th>(3400, 3600]</th>\n",
       "      <td>164</td>\n",
       "    </tr>\n",
       "    <tr>\n",
       "      <th>(3600, 3800]</th>\n",
       "      <td>51</td>\n",
       "    </tr>\n",
       "    <tr>\n",
       "      <th>(3800, 4000]</th>\n",
       "      <td>163</td>\n",
       "    </tr>\n",
       "    <tr>\n",
       "      <th>(4000, 4200]</th>\n",
       "      <td>27</td>\n",
       "    </tr>\n",
       "    <tr>\n",
       "      <th>(4200, 4400]</th>\n",
       "      <td>14</td>\n",
       "    </tr>\n",
       "    <tr>\n",
       "      <th>(4400, 4600]</th>\n",
       "      <td>41</td>\n",
       "    </tr>\n",
       "    <tr>\n",
       "      <th>(4600, 4800]</th>\n",
       "      <td>21</td>\n",
       "    </tr>\n",
       "  </tbody>\n",
       "</table>\n",
       "</div>"
      ],
      "text/plain": [
       "sexFem            2\n",
       "salario            \n",
       "(600, 800]    14267\n",
       "(800, 1000]     758\n",
       "(1000, 1200]    562\n",
       "(1200, 1400]    399\n",
       "(1400, 1600]    556\n",
       "(1600, 1800]    255\n",
       "(1800, 2000]    410\n",
       "(2000, 2200]    251\n",
       "(2200, 2400]    123\n",
       "(2400, 2600]    204\n",
       "(2600, 2800]    103\n",
       "(2800, 3000]    260\n",
       "(3000, 3200]     97\n",
       "(3200, 3400]     47\n",
       "(3400, 3600]    164\n",
       "(3600, 3800]     51\n",
       "(3800, 4000]    163\n",
       "(4000, 4200]     27\n",
       "(4200, 4400]     14\n",
       "(4400, 4600]     41\n",
       "(4600, 4800]     21"
      ]
     },
     "execution_count": 199,
     "metadata": {},
     "output_type": "execute_result"
    }
   ],
   "source": [
    "Fx1 = range(600,5000,200)\n",
    "Fr = pd.cut(d2014.salario,Fx1)\n",
    "E= pd.crosstab(Fr,d2014.sexFem)\n",
    "E"
   ]
  },
  {
   "cell_type": "code",
   "execution_count": 138,
   "metadata": {
    "collapsed": true
   },
   "outputs": [
    {
     "data": {
      "text/plain": [
       "<matplotlib.text.Text at 0x13a81141908>"
      ]
     },
     "execution_count": 138,
     "metadata": {},
     "output_type": "execute_result"
    },
    {
     "data": {
      "image/png": "[encoded data removed]",
      "text/plain": [
       "<matplotlib.figure.Figure at 0x13a8b52b390>"
      ]
     },
     "metadata": {},
     "output_type": "display_data"
    }
   ],
   "source": [
    "F = pd.crosstab(regiao,d2014.sexMas)\n",
    "plot = F.plot(kind='bar',title='Homens Aposentadas em cada região',figsize=(6, 6),color=('b'))\n",
    "plt.ylabel('\"N° de aposentadas\"')"
   ]
  },
  {
   "cell_type": "code",
   "execution_count": 128,
   "metadata": {
    "collapsed": true
   },
   "outputs": [
    {
     "data": {
      "text/html": [
       "<div>\n",
       "<table border=\"1\" class=\"dataframe\">\n",
       "  <thead>\n",
       "    <tr style=\"text-align: right;\">\n",
       "      <th>sexMas</th>\n",
       "      <th>2.0</th>\n",
       "    </tr>\n",
       "    <tr>\n",
       "      <th>salario</th>\n",
       "      <th></th>\n",
       "    </tr>\n",
       "  </thead>\n",
       "  <tbody>\n",
       "    <tr>\n",
       "      <th>(600, 800]</th>\n",
       "      <td>10753</td>\n",
       "    </tr>\n",
       "    <tr>\n",
       "      <th>(800, 1000]</th>\n",
       "      <td>976</td>\n",
       "    </tr>\n",
       "    <tr>\n",
       "      <th>(1000, 1200]</th>\n",
       "      <td>951</td>\n",
       "    </tr>\n",
       "    <tr>\n",
       "      <th>(1200, 1400]</th>\n",
       "      <td>708</td>\n",
       "    </tr>\n",
       "    <tr>\n",
       "      <th>(1400, 1600]</th>\n",
       "      <td>1032</td>\n",
       "    </tr>\n",
       "    <tr>\n",
       "      <th>(1600, 1800]</th>\n",
       "      <td>451</td>\n",
       "    </tr>\n",
       "    <tr>\n",
       "      <th>(1800, 2000]</th>\n",
       "      <td>689</td>\n",
       "    </tr>\n",
       "    <tr>\n",
       "      <th>(2000, 2200]</th>\n",
       "      <td>401</td>\n",
       "    </tr>\n",
       "    <tr>\n",
       "      <th>(2200, 2400]</th>\n",
       "      <td>210</td>\n",
       "    </tr>\n",
       "    <tr>\n",
       "      <th>(2400, 2600]</th>\n",
       "      <td>369</td>\n",
       "    </tr>\n",
       "    <tr>\n",
       "      <th>(2600, 2800]</th>\n",
       "      <td>203</td>\n",
       "    </tr>\n",
       "    <tr>\n",
       "      <th>(2800, 3000]</th>\n",
       "      <td>402</td>\n",
       "    </tr>\n",
       "    <tr>\n",
       "      <th>(3000, 3200]</th>\n",
       "      <td>125</td>\n",
       "    </tr>\n",
       "    <tr>\n",
       "      <th>(3200, 3400]</th>\n",
       "      <td>50</td>\n",
       "    </tr>\n",
       "    <tr>\n",
       "      <th>(3400, 3600]</th>\n",
       "      <td>177</td>\n",
       "    </tr>\n",
       "    <tr>\n",
       "      <th>(3600, 3800]</th>\n",
       "      <td>81</td>\n",
       "    </tr>\n",
       "    <tr>\n",
       "      <th>(3800, 4000]</th>\n",
       "      <td>167</td>\n",
       "    </tr>\n",
       "    <tr>\n",
       "      <th>(4000, 4200]</th>\n",
       "      <td>36</td>\n",
       "    </tr>\n",
       "    <tr>\n",
       "      <th>(4200, 4400]</th>\n",
       "      <td>23</td>\n",
       "    </tr>\n",
       "    <tr>\n",
       "      <th>(4400, 4600]</th>\n",
       "      <td>58</td>\n",
       "    </tr>\n",
       "    <tr>\n",
       "      <th>(4600, 4800]</th>\n",
       "      <td>13</td>\n",
       "    </tr>\n",
       "  </tbody>\n",
       "</table>\n",
       "</div>"
      ],
      "text/plain": [
       "sexMas            2\n",
       "salario            \n",
       "(600, 800]    10753\n",
       "(800, 1000]     976\n",
       "(1000, 1200]    951\n",
       "(1200, 1400]    708\n",
       "(1400, 1600]   1032\n",
       "(1600, 1800]    451\n",
       "(1800, 2000]    689\n",
       "(2000, 2200]    401\n",
       "(2200, 2400]    210\n",
       "(2400, 2600]    369\n",
       "(2600, 2800]    203\n",
       "(2800, 3000]    402\n",
       "(3000, 3200]    125\n",
       "(3200, 3400]     50\n",
       "(3400, 3600]    177\n",
       "(3600, 3800]     81\n",
       "(3800, 4000]    167\n",
       "(4000, 4200]     36\n",
       "(4200, 4400]     23\n",
       "(4400, 4600]     58\n",
       "(4600, 4800]     13"
      ]
     },
     "execution_count": 128,
     "metadata": {},
     "output_type": "execute_result"
    }
   ],
   "source": [
    "G = pd.crosstab(Fr,d2014.sexMas)\n",
    "G"
   ]
  },
  {
   "cell_type": "markdown",
   "metadata": {},
   "source": [
    "___"
   ]
  },
  {
   "cell_type": "markdown",
   "metadata": {
    "collapsed": false
   },
   "source": [
    "___\n",
    "# Conclusão "
   ]
  },
  {
   "cell_type": "markdown",
   "metadata": {
    "collapsed": true
   },
   "source": [
    "Após cruzar uma série de dados obtivemos alguns resultados relevantes para nossa pesquisa:"
   ]
  },
  {
   "cell_type": "markdown",
   "metadata": {},
   "source": [
    "Abaixo temos o total de aposentados e em qual região se concentra a maior parte deles"
   ]
  },
  {
   "cell_type": "code",
   "execution_count": 167,
   "metadata": {
    "collapsed": true
   },
   "outputs": [
    {
     "data": {
      "text/plain": [
       "<matplotlib.text.Text at 0x13a8b717320>"
      ]
     },
     "execution_count": 167,
     "metadata": {},
     "output_type": "execute_result"
    },
    {
     "data": {
      "image/png": "[encoded data removed]",
      "text/plain": [
       "<matplotlib.figure.Figure at 0x13a8bb984e0>"
      ]
     },
     "metadata": {},
     "output_type": "display_data"
    }
   ],
   "source": [
    "plot1=A.plot(kind=\"bar\",title= \"Aposentaos\",figsize=(5,5), color=(\"b\",\"m\"))\n",
    "plt.ylabel(\"N° de pessoas (em milhares)\")"
   ]
  },
  {
   "cell_type": "markdown",
   "metadata": {},
   "source": [
    "________"
   ]
  },
  {
   "cell_type": "code",
   "execution_count": 166,
   "metadata": {
    "collapsed": true
   },
   "outputs": [
    {
     "data": {
      "text/plain": [
       "<matplotlib.text.Text at 0x13a8b698668>"
      ]
     },
     "execution_count": 166,
     "metadata": {},
     "output_type": "execute_result"
    },
    {
     "data": {
      "image/png": "[encoded data removed]",
      "text/plain": [
       "<matplotlib.figure.Figure at 0x13a8b259b70>"
      ]
     },
     "metadata": {},
     "output_type": "display_data"
    }
   ],
   "source": [
    "plot = C.plot(kind='bar',title='Regiao',figsize=(6, 6),color=('b','g','c','r','y','c','y'))\n",
    "plt.ylabel('\"N° de pessoas\"')\n",
    "plt.xlabel('Regiões')"
   ]
  },
  {
   "cell_type": "markdown",
   "metadata": {},
   "source": [
    "---"
   ]
  },
  {
   "cell_type": "markdown",
   "metadata": {},
   "source": [
    "Ao analisar esses dois graficos vamos que a maioria dos aposentados são mulheres e se concentram na região Sudeste, porém, se nos aprofundar-mos um pouco mais na pesquisa, veremos que os graficos podem gerar conclusões que não condizem com a realiade.\n",
    "Por isso, abaixo vemos a destribuição de aposentados por região  de acordo com o sexo do indivíduo."
   ]
  },
  {
   "cell_type": "code",
   "execution_count": 168,
   "metadata": {
    "collapsed": true
   },
   "outputs": [
    {
     "data": {
      "text/plain": [
       "<matplotlib.text.Text at 0x13a811b44a8>"
      ]
     },
     "execution_count": 168,
     "metadata": {},
     "output_type": "execute_result"
    },
    {
     "data": {
      "image/png": "[encoded data removed]",
      "text/plain": [
       "<matplotlib.figure.Figure at 0x13a811ee860>"
      ]
     },
     "metadata": {},
     "output_type": "display_data"
    }
   ],
   "source": [
    "plot = d.plot(kind='bar',title='Mulheres Aposentadas em cada região',figsize=(6, 6),color=(\"m\"))\n",
    "plt.ylabel('\"N° de aposentadas\"')"
   ]
  },
  {
   "cell_type": "markdown",
   "metadata": {},
   "source": [
    "___"
   ]
  },
  {
   "cell_type": "code",
   "execution_count": 169,
   "metadata": {
    "collapsed": true
   },
   "outputs": [
    {
     "data": {
      "text/plain": [
       "<matplotlib.text.Text at 0x13a81188358>"
      ]
     },
     "execution_count": 169,
     "metadata": {},
     "output_type": "execute_result"
    },
    {
     "data": {
      "image/png": "[encoded data removed]",
      "text/plain": [
       "<matplotlib.figure.Figure at 0x13a81195b38>"
      ]
     },
     "metadata": {},
     "output_type": "display_data"
    }
   ],
   "source": [
    "plot = F.plot(kind='bar',title='Homens Aposentadas em cada região',figsize=(6, 6),color=('b'))\n",
    "plt.ylabel('\"N° de aposentadas\"')"
   ]
  },
  {
   "cell_type": "markdown",
   "metadata": {},
   "source": [
    "---"
   ]
  },
  {
   "cell_type": "markdown",
   "metadata": {},
   "source": [
    "Com esses gráficos vemos que a maioria das mulheres aposentadas se concentra na região nordeste, enquanto a maioria masculina se concentra no sudeste, isso se deve ao grande fluxo migratório que ocorreu nas ultimas três decadas, em que muitos \"pais de família\", do nordeste, foram até o sudeste em busca de empregos e condiçoes melhores para suas famílias, enquanto as mulheres se dedicavam aos estudos e garantiam emprego intelectual em sua própria região."
   ]
  },
  {
   "cell_type": "markdown",
   "metadata": {},
   "source": [
    "Esse processso acabou por gerar um resultado no pagamento das aposentadorias, como vemos nas tabelas abaixo a maioria das mulheres recebem somente o piso salarial, os homens, apesar de também receberem o piso em sua grande maioria, concentem uma grande parcela que recebem entre 2 e 3 salários mínimos"
   ]
  },
  {
   "cell_type": "code",
   "execution_count": 200,
   "metadata": {
    "collapsed": true
   },
   "outputs": [
    {
     "data": {
      "text/html": [
       "<div>\n",
       "<table border=\"1\" class=\"dataframe\">\n",
       "  <thead>\n",
       "    <tr style=\"text-align: right;\">\n",
       "      <th>sexFem</th>\n",
       "      <th>2.0</th>\n",
       "    </tr>\n",
       "    <tr>\n",
       "      <th>salario</th>\n",
       "      <th></th>\n",
       "    </tr>\n",
       "  </thead>\n",
       "  <tbody>\n",
       "    <tr>\n",
       "      <th>(600, 800]</th>\n",
       "      <td>14267</td>\n",
       "    </tr>\n",
       "    <tr>\n",
       "      <th>(800, 1000]</th>\n",
       "      <td>758</td>\n",
       "    </tr>\n",
       "    <tr>\n",
       "      <th>(1000, 1200]</th>\n",
       "      <td>562</td>\n",
       "    </tr>\n",
       "    <tr>\n",
       "      <th>(1200, 1400]</th>\n",
       "      <td>399</td>\n",
       "    </tr>\n",
       "    <tr>\n",
       "      <th>(1400, 1600]</th>\n",
       "      <td>556</td>\n",
       "    </tr>\n",
       "    <tr>\n",
       "      <th>(1600, 1800]</th>\n",
       "      <td>255</td>\n",
       "    </tr>\n",
       "    <tr>\n",
       "      <th>(1800, 2000]</th>\n",
       "      <td>410</td>\n",
       "    </tr>\n",
       "    <tr>\n",
       "      <th>(2000, 2200]</th>\n",
       "      <td>251</td>\n",
       "    </tr>\n",
       "    <tr>\n",
       "      <th>(2200, 2400]</th>\n",
       "      <td>123</td>\n",
       "    </tr>\n",
       "    <tr>\n",
       "      <th>(2400, 2600]</th>\n",
       "      <td>204</td>\n",
       "    </tr>\n",
       "    <tr>\n",
       "      <th>(2600, 2800]</th>\n",
       "      <td>103</td>\n",
       "    </tr>\n",
       "    <tr>\n",
       "      <th>(2800, 3000]</th>\n",
       "      <td>260</td>\n",
       "    </tr>\n",
       "    <tr>\n",
       "      <th>(3000, 3200]</th>\n",
       "      <td>97</td>\n",
       "    </tr>\n",
       "    <tr>\n",
       "      <th>(3200, 3400]</th>\n",
       "      <td>47</td>\n",
       "    </tr>\n",
       "    <tr>\n",
       "      <th>(3400, 3600]</th>\n",
       "      <td>164</td>\n",
       "    </tr>\n",
       "    <tr>\n",
       "      <th>(3600, 3800]</th>\n",
       "      <td>51</td>\n",
       "    </tr>\n",
       "    <tr>\n",
       "      <th>(3800, 4000]</th>\n",
       "      <td>163</td>\n",
       "    </tr>\n",
       "    <tr>\n",
       "      <th>(4000, 4200]</th>\n",
       "      <td>27</td>\n",
       "    </tr>\n",
       "    <tr>\n",
       "      <th>(4200, 4400]</th>\n",
       "      <td>14</td>\n",
       "    </tr>\n",
       "    <tr>\n",
       "      <th>(4400, 4600]</th>\n",
       "      <td>41</td>\n",
       "    </tr>\n",
       "    <tr>\n",
       "      <th>(4600, 4800]</th>\n",
       "      <td>21</td>\n",
       "    </tr>\n",
       "  </tbody>\n",
       "</table>\n",
       "</div>"
      ],
      "text/plain": [
       "sexFem            2\n",
       "salario            \n",
       "(600, 800]    14267\n",
       "(800, 1000]     758\n",
       "(1000, 1200]    562\n",
       "(1200, 1400]    399\n",
       "(1400, 1600]    556\n",
       "(1600, 1800]    255\n",
       "(1800, 2000]    410\n",
       "(2000, 2200]    251\n",
       "(2200, 2400]    123\n",
       "(2400, 2600]    204\n",
       "(2600, 2800]    103\n",
       "(2800, 3000]    260\n",
       "(3000, 3200]     97\n",
       "(3200, 3400]     47\n",
       "(3400, 3600]    164\n",
       "(3600, 3800]     51\n",
       "(3800, 4000]    163\n",
       "(4000, 4200]     27\n",
       "(4200, 4400]     14\n",
       "(4400, 4600]     41\n",
       "(4600, 4800]     21"
      ]
     },
     "execution_count": 200,
     "metadata": {},
     "output_type": "execute_result"
    }
   ],
   "source": [
    "E"
   ]
  },
  {
   "cell_type": "markdown",
   "metadata": {},
   "source": [
    "---"
   ]
  },
  {
   "cell_type": "code",
   "execution_count": 201,
   "metadata": {
    "collapsed": true
   },
   "outputs": [
    {
     "data": {
      "text/html": [
       "<div>\n",
       "<table border=\"1\" class=\"dataframe\">\n",
       "  <thead>\n",
       "    <tr style=\"text-align: right;\">\n",
       "      <th>sexMas</th>\n",
       "      <th>2.0</th>\n",
       "    </tr>\n",
       "    <tr>\n",
       "      <th>salario</th>\n",
       "      <th></th>\n",
       "    </tr>\n",
       "  </thead>\n",
       "  <tbody>\n",
       "    <tr>\n",
       "      <th>(600, 800]</th>\n",
       "      <td>10753</td>\n",
       "    </tr>\n",
       "    <tr>\n",
       "      <th>(800, 1000]</th>\n",
       "      <td>976</td>\n",
       "    </tr>\n",
       "    <tr>\n",
       "      <th>(1000, 1200]</th>\n",
       "      <td>951</td>\n",
       "    </tr>\n",
       "    <tr>\n",
       "      <th>(1200, 1400]</th>\n",
       "      <td>708</td>\n",
       "    </tr>\n",
       "    <tr>\n",
       "      <th>(1400, 1600]</th>\n",
       "      <td>1032</td>\n",
       "    </tr>\n",
       "    <tr>\n",
       "      <th>(1600, 1800]</th>\n",
       "      <td>451</td>\n",
       "    </tr>\n",
       "    <tr>\n",
       "      <th>(1800, 2000]</th>\n",
       "      <td>689</td>\n",
       "    </tr>\n",
       "    <tr>\n",
       "      <th>(2000, 2200]</th>\n",
       "      <td>401</td>\n",
       "    </tr>\n",
       "    <tr>\n",
       "      <th>(2200, 2400]</th>\n",
       "      <td>210</td>\n",
       "    </tr>\n",
       "    <tr>\n",
       "      <th>(2400, 2600]</th>\n",
       "      <td>369</td>\n",
       "    </tr>\n",
       "    <tr>\n",
       "      <th>(2600, 2800]</th>\n",
       "      <td>203</td>\n",
       "    </tr>\n",
       "    <tr>\n",
       "      <th>(2800, 3000]</th>\n",
       "      <td>402</td>\n",
       "    </tr>\n",
       "    <tr>\n",
       "      <th>(3000, 3200]</th>\n",
       "      <td>125</td>\n",
       "    </tr>\n",
       "    <tr>\n",
       "      <th>(3200, 3400]</th>\n",
       "      <td>50</td>\n",
       "    </tr>\n",
       "    <tr>\n",
       "      <th>(3400, 3600]</th>\n",
       "      <td>177</td>\n",
       "    </tr>\n",
       "    <tr>\n",
       "      <th>(3600, 3800]</th>\n",
       "      <td>81</td>\n",
       "    </tr>\n",
       "    <tr>\n",
       "      <th>(3800, 4000]</th>\n",
       "      <td>167</td>\n",
       "    </tr>\n",
       "    <tr>\n",
       "      <th>(4000, 4200]</th>\n",
       "      <td>36</td>\n",
       "    </tr>\n",
       "    <tr>\n",
       "      <th>(4200, 4400]</th>\n",
       "      <td>23</td>\n",
       "    </tr>\n",
       "    <tr>\n",
       "      <th>(4400, 4600]</th>\n",
       "      <td>58</td>\n",
       "    </tr>\n",
       "    <tr>\n",
       "      <th>(4600, 4800]</th>\n",
       "      <td>13</td>\n",
       "    </tr>\n",
       "  </tbody>\n",
       "</table>\n",
       "</div>"
      ],
      "text/plain": [
       "sexMas            2\n",
       "salario            \n",
       "(600, 800]    10753\n",
       "(800, 1000]     976\n",
       "(1000, 1200]    951\n",
       "(1200, 1400]    708\n",
       "(1400, 1600]   1032\n",
       "(1600, 1800]    451\n",
       "(1800, 2000]    689\n",
       "(2000, 2200]    401\n",
       "(2200, 2400]    210\n",
       "(2400, 2600]    369\n",
       "(2600, 2800]    203\n",
       "(2800, 3000]    402\n",
       "(3000, 3200]    125\n",
       "(3200, 3400]     50\n",
       "(3400, 3600]    177\n",
       "(3600, 3800]     81\n",
       "(3800, 4000]    167\n",
       "(4000, 4200]     36\n",
       "(4200, 4400]     23\n",
       "(4400, 4600]     58\n",
       "(4600, 4800]     13"
      ]
     },
     "execution_count": 201,
     "metadata": {},
     "output_type": "execute_result"
    }
   ],
   "source": [
    "G"
   ]
  },
  {
   "cell_type": "markdown",
   "metadata": {},
   "source": [
    "Entretanto, ao analizar o teto salarial da aposnentadoria,vemos que o quadro se inverte, e as mulheres passam a receber mais que os homens, isso pode ser associado a uma melhor remuneração em trabalhos que exigem conhecimento, e establidade, o que acarreta em mais tempo de contribuição"
   ]
  }
 ],
 "metadata": {
  "anaconda-cloud": {},
  "kernelspec": {
   "display_name": "Python 3",
   "language": "python",
   "name": "python3"
  },
  "language_info": {
   "codemirror_mode": {
    "name": "ipython",
    "version": 3
   },
   "file_extension": ".py",
   "mimetype": "text/x-python",
   "name": "python",
   "nbconvert_exporter": "python",
   "pygments_lexer": "ipython3",
   "version": "3.5.1"
  }
 },
 "nbformat": 4,
 "nbformat_minor": 0
}
