{
 "cells": [
  {
   "cell_type": "markdown",
   "metadata": {},
   "source": [
    "___\n",
    "# Atividade: Variáveis qualitativas com a PNAD (ALUNOS)\n",
    "___\n",
    "\n",
    "## Aula 02\n",
    "\n",
    "\n",
    "**Link úteis:**\n",
    "1.\tLeitura prévia necessária: Magalhães e Lima (7ª. Edição): pág. 9 a 16 – destacando para variáveis qualitativas.\n",
    "2.\t10 Minutes to Pandas: http://pandas.pydata.org/pandas-docs/stable/10min.html\n",
    "3.\tEssential Basic Functionality: http://pandas.pydata.org/pandas-docs/stable/basics.html\n",
    "4.  Estude a aula `Aula02 Análise Exploratoria Variáveis Qualitativas-ALUNOS.ipynb`, o qual contém uma introdução ao Jupyter Notebook. A publicação dessa aula tem como objetivo auxiliá-lo, caso queira, no desenvolvimento dos seus próximos programas, como esta atividade.\n",
    "\n",
    "**Hoje:**\n",
    "1.\tAnalisar variáveis qualitativas de forma uni e bivariadas utilizando tabelas de frequências e gráficos de barras e de pizza (ou setor).\n",
    "2.  Trabalhar com a base de dados da PNAD 2013 - Pesquisa Nacional por Amostra de Domicílios\n",
    "\n",
    "**Próxima aula:**\n",
    "1.\tLeitura prévia necessária: Magalhães e Lima (7ª. Edição): pág. 9 a 17 – destacando para variáveis quantitativas; pág. 106 e 107 (Definição 4.1 e Exemplo 4.1).\n",
    "\n",
    "___\n"
   ]
  },
  {
   "cell_type": "markdown",
   "metadata": {},
   "source": [
    "___\n",
    "## <font color='blue'>PNAD 2013 – PESQUISA NACIONAL POR AMOSTRA DE DOMICÍLIOS</font>\n",
    "\n",
    "**Base de dados reduzida: ** `pes2013A.txt` (75 MB)\n",
    "[Acesse a base de dados aqui: https://dl.dropboxusercontent.com/u/65763596/Aula02/pes2013A.txt] \n",
    "\n",
    "**Dicionário das variáveis: ** `Dicionário de variáveis de pessoas - PNAD 2013.xlsx`\n",
    "[Acesse dicionário aqui: https://dl.dropboxusercontent.com/u/65763596/Aula02/Dicion%C3%A1rio%20de%20vari%C3%A1veis%20de%20pessoas%20-%20PNAD%202013.xls]\n",
    "\n",
    "\n",
    "Muitos especialistas na área de negócios dizem que empresários mais bem sucedidos são aqueles que fazem um planejamento antes de começar seu próprio negócio. Nessa visão, imagine que o Sr. Gold tenha como grande objetivo abrir uma nova faculdade e para isso deseja estudar o perfil do estudante que cursa ensino médio ou pré-vestibular e do que cursa ensino superior. \n",
    "\n",
    "Assuma que as variáveis de interesse a respeito dos estudantes sejam relativamente as mesmas de 2013 até o momento atual. Nesse caso, seja criativo para ajudar o Sr. Gold que deseja abrir seu negócio, mas não tem certeza sobre quais variáveis o interessam. \n",
    "\n",
    "Vocês podem ajudá-lo?!  \n",
    "\n",
    "As variáveis a seguir devem fazer parte da sua análise:\n",
    "\n",
    "* V0302: sexo\n",
    "* V0404: cor ou raça\n",
    "* V6002: rede de ensino\n",
    "* V4802: nível de ensino e grupos de séries do ensino fundamental que frequentavam (todos os estudantes)\n",
    "\n",
    "** Crie uma variável com região do indivíduo amostrado considerando a variável `UF` que define o estado e também trabalhe com essa nova variável em suas análises. ** \n",
    "\n",
    "** Escolha mais pelo menos DUAS variáveis qualitativas para completar sua análise!! **\n",
    "\n",
    "Faça uma análise exploratória apenas com as variáveis qualitativas com foco no objetivo do Sr. Gold.\n",
    "\n",
    "Sua análise deve conter pelo menos uma das seguintes visualizações:\n",
    "\n",
    "1. Gráfico de colunas (bar) e setor (pie) com as frequências relativas cadas categorias das variáveis qualitativas.\n",
    "2. Tabela cruzada entre pares de variaveis qualitativas. Montar o gráfico de colunas. Repetir o processo habilitando a opção \"stacked=True\".\n",
    "\n",
    "\n",
    "___\n",
    "\n",
    "\n",
    "<font color='red'>\n",
    "Crie um repositório chamado CD em seu Github\n",
    "</font>\n",
    "\n",
    "\n",
    "Neste repositório, salve seu trabalho numa pasta chamada aula2\n",
    "\n",
    "Por exemplo, se seu login for *pikachu* o projeto vai estar na pasta:\n",
    "\n",
    "https://github.com/<font color=red>pikachu/CD/aula2</font>\n",
    "\n",
    "\n",
    "\n",
    "## <font color='red'>Terça-feira (dia 16/08), no horário de atendimento da sua turma, deverá apresentar aos NINJAS!!</font>\n",
    "___"
   ]
  },
  {
   "cell_type": "code",
   "execution_count": 1,
   "metadata": {
    "collapsed": false
   },
   "outputs": [],
   "source": [
    "%matplotlib inline\n",
    "import pandas as pd\n",
    "import matplotlib.pyplot as plt\n",
    "import os\n",
    "from numpy import arange"
   ]
  },
  {
   "cell_type": "code",
   "execution_count": 2,
   "metadata": {
    "collapsed": false
   },
   "outputs": [],
   "source": [
    "dados=pd.read_excel('PNAD 2013 A.xlsx')"
   ]
  },
  {
   "cell_type": "code",
   "execution_count": 3,
   "metadata": {
    "collapsed": false
   },
   "outputs": [
    {
     "name": "stdout",
     "output_type": "stream",
     "text": [
      "Esperamos trabalhar no diretório\n",
      "C:\\Users\\João Rodrigues\\Documents\\Ciencia dos Dados\n"
     ]
    }
   ],
   "source": [
    "print('Esperamos trabalhar no diretório')\n",
    "print(os.getcwd())"
   ]
  },
  {
   "cell_type": "code",
   "execution_count": 4,
   "metadata": {
    "collapsed": false
   },
   "outputs": [
    {
     "ename": "NameError",
     "evalue": "name 'dado' is not defined",
     "output_type": "error",
     "traceback": [
      "\u001b[1;31m---------------------------------------------------------------------------\u001b[0m",
      "\u001b[1;31mNameError\u001b[0m                                 Traceback (most recent call last)",
      "\u001b[1;32m<ipython-input-4-76925fe1d3c2>\u001b[0m in \u001b[0;36m<module>\u001b[1;34m()\u001b[0m\n\u001b[0;32m      1\u001b[0m \u001b[0mdados\u001b[0m\u001b[1;33m.\u001b[0m\u001b[0mUF2\u001b[0m\u001b[1;33m=\u001b[0m\u001b[0mdados\u001b[0m\u001b[1;33m.\u001b[0m\u001b[0mUF\u001b[0m\u001b[1;33m\u001b[0m\u001b[0m\n\u001b[0;32m      2\u001b[0m \u001b[0mdados\u001b[0m\u001b[1;33m[\u001b[0m\u001b[1;34m\"regiao\"\u001b[0m\u001b[1;33m]\u001b[0m\u001b[1;33m=\u001b[0m\u001b[0mdados\u001b[0m\u001b[1;33m.\u001b[0m\u001b[0mUF\u001b[0m\u001b[1;33m\u001b[0m\u001b[0m\n\u001b[1;32m----> 3\u001b[1;33m \u001b[0mdado\u001b[0m\u001b[1;33m[\u001b[0m\u001b[1;34m\"Jesus\"\u001b[0m\u001b[1;33m]\u001b[0m\u001b[1;33m\u001b[0m\u001b[0m\n\u001b[0m\u001b[0;32m      4\u001b[0m \u001b[1;33m\u001b[0m\u001b[0m\n\u001b[0;32m      5\u001b[0m \u001b[0mdado\u001b[0m\u001b[1;33m.\u001b[0m\u001b[0mJesus\u001b[0m\u001b[1;33m\u001b[0m\u001b[0m\n",
      "\u001b[1;31mNameError\u001b[0m: name 'dado' is not defined"
     ]
    }
   ],
   "source": [
    "dados.UF2=dados.UF\n",
    "dados[\"regiao\"]=dados.UF"
   ]
  },
  {
   "cell_type": "markdown",
   "metadata": {},
   "source": [
    "Inicialmente analisamos a relação entre homens e mulheres da base de dados, resunltando no seguinte gráfico:"
   ]
  },
  {
   "cell_type": "code",
   "execution_count": null,
   "metadata": {
    "collapsed": false
   },
   "outputs": [],
   "source": [
    "#Sexo\n",
    "dados.V0302 = dados.V0302.astype('category')\n",
    "dados.V0302.cat.categories = ('Masculino','Feminino')\n",
    "ut1=dados.V0302.value_counts(True)*100\n",
    "\n",
    "plot=ut1.plot(kind=\"pie\",title= \"Sexo\", autopct=\"%.1f\",figsize=(6,6))"
   ]
  },
  {
   "cell_type": "code",
   "execution_count": null,
   "metadata": {
    "collapsed": false,
    "scrolled": true
   },
   "outputs": [],
   "source": [
    "#Cor e Raça\n",
    "dados.V0404 = dados.V0404.astype('category')\n",
    "dados.V0404.cat.categories = ('Indigena','Branca','Preta','Amarela','Parda',\"Sem Declaração\")\n",
    "ut2=dados.V0404.value_counts(True)*100\n",
    "\n",
    "plot = ut2.plot(kind='bar',title='Cor ou Raça',figsize=(6, 6),color=('b','w','k','r','y'))"
   ]
  },
  {
   "cell_type": "code",
   "execution_count": null,
   "metadata": {
    "collapsed": false,
    "scrolled": true
   },
   "outputs": [],
   "source": [
    "#Rede de Ensino\n",
    "dados.V6002 = dados.V6002.astype(\"category\")\n",
    "dados.V6002.cat.categories = ('Publica','Privada')\n",
    "ut3=dados.V6002.value_counts(True)*100\n",
    "\n",
    "plot = ut3.plot(kind='bar',title='Rede de Ensino',figsize=(6, 6),color=('b','w','k','r','y'))"
   ]
  },
  {
   "cell_type": "code",
   "execution_count": null,
   "metadata": {
    "collapsed": false
   },
   "outputs": [],
   "source": [
    "#Nível de ensino e grupos de séries do ensino fundamental que frequentavam\n",
    "dados.V4802 = dados.V4802.astype(\"category\")\n",
    "dados.V4802.cat.categories = (\"Maternal, jardim de infância etc.\",\n",
    "                              \"Classe de alfabetização\",\"Alfabetização de adultos\",\n",
    "                              \"1ª a 4ª séries do ensino fundamental regular em 8 anos ou de educação de jovens e adultos\"\n",
    "                             ,\"5ª a 8ª séries do ensino fundamental regular em 8 anos ou de educação de jovens e adultos\"\n",
    "                             ,\"1ª série do ensino fundamental regular em 9 anos\",\n",
    "                              \"2ª a 5ª séries do ensino fundamental regular em 9 anos\",\n",
    "                              \"6ª a 9ª séries do ensino fundamental regular em 9 anos\"\n",
    "                             ,\"Educação de jovens e adultos não seriado do ensino fundamental\",\n",
    "                              \"Ensino médio, inclusive pré-vestibular\",\"Superior, inclusive mestrado ou doutorado\")\n",
    "ut4=dados.V4802.value_counts(True)*100\n",
    "\n",
    "plot = ut4.plot(kind='bar',title='Nível de ensino',figsize=(6, 6),color=('b','w','k','r','y'))"
   ]
  },
  {
   "cell_type": "code",
   "execution_count": null,
   "metadata": {
    "collapsed": false
   },
   "outputs": [],
   "source": [
    "#Unidade Federativa\n",
    "dados.UF = dados.UF.astype(\"category\")\n",
    "dados.UF.cat.categories = ('Rondonia','Acre','Amazonas','Roraima','Para','Amapa', 'Tocantins', 'Maranhão', 'Piaui','Ceara',\n",
    "                           'Rio Grande Do Norte', 'Paraiba', 'pernambuco',\n",
    "                      'Alagoas', 'Sergipe', 'Bahia', 'Minas Gerais', 'Espirito Santo', 'Rio de Janeiro', 'Sao Paulo', 'Paraná', 'Santa Catarina',\n",
    "                      'Rio Grande do Sul', 'Mato Grosso do Sul', 'Mato Grosso', 'Goias', 'Distrito Federal')\n",
    "ut5=dados.UF.value_counts()\n",
    "\n",
    "plot = ut5.plot(kind='bar',title='Unidade Federativa',figsize=(6, 6),color=('b','w','k','r','y',\"m\"))"
   ]
  },
  {
   "cell_type": "code",
   "execution_count": null,
   "metadata": {
    "collapsed": false
   },
   "outputs": [],
   "source": [
    "#Estado civil\n",
    "dados.V4011 = dados.V4011.astype('category')\n",
    "dados.V4011.cat.categories = ('Solteiro',\"Casado\",\"Separado\",\"Divorciado\",\"Viuvo\")\n",
    "ut6=dados.V4011.value_counts(True)*100\n",
    "\n",
    "plot = ut6.plot(kind='bar',title='Estado Civil',figsize=(6, 6),color=('b','w','k','r','y'))"
   ]
  },
  {
   "cell_type": "code",
   "execution_count": null,
   "metadata": {
    "collapsed": false
   },
   "outputs": [],
   "source": [
    "# Área da rede publica de ensino\n",
    "dados.V6020 = dados.V6020.astype(\"category\")\n",
    "dados.V6020.cat.categories = (\"Municipal\",\"Estadual\",\"Federal\")\n",
    "ut7=dados.V6020.value_counts(True)*100\n",
    "\n",
    "plot = ut7.plot(kind='bar',title='Área da rede pública de ensino',figsize=(6, 6),color=('b','w','k','r','y','m'))"
   ]
  },
  {
   "cell_type": "code",
   "execution_count": null,
   "metadata": {
    "collapsed": false
   },
   "outputs": [],
   "source": [
    "#Alfabetizção\n",
    "dados.V0601 = dados.V0601.astype(\"category\")\n",
    "dados.V0601.cat.categories = (\"Sim\",\"Não\")\n",
    "ut8= dados.V0601.value_counts(True)*100\n",
    "plot = ut8.plot(kind=\"bar\",title = \"Alfabetização\",figsize=(6, 6),color=('b','w','k','r','y','m'))"
   ]
  },
  {
   "cell_type": "code",
   "execution_count": null,
   "metadata": {
    "collapsed": false
   },
   "outputs": [],
   "source": [
    "ct = pd.crosstab(dados.UF,dados.V6002)\n",
    "ct"
   ]
  },
  {
   "cell_type": "code",
   "execution_count": 5,
   "metadata": {
    "collapsed": false
   },
   "outputs": [
    {
     "name": "stderr",
     "output_type": "stream",
     "text": [
      "C:\\Anaconda3\\lib\\site-packages\\ipykernel\\__main__.py:1: SettingWithCopyWarning: \n",
      "A value is trying to be set on a copy of a slice from a DataFrame\n",
      "\n",
      "See the caveats in the documentation: http://pandas.pydata.org/pandas-docs/stable/indexing.html#indexing-view-versus-copy\n",
      "  if __name__ == '__main__':\n",
      "C:\\Anaconda3\\lib\\site-packages\\ipykernel\\__main__.py:2: SettingWithCopyWarning: \n",
      "A value is trying to be set on a copy of a slice from a DataFrame\n",
      "\n",
      "See the caveats in the documentation: http://pandas.pydata.org/pandas-docs/stable/indexing.html#indexing-view-versus-copy\n",
      "  from ipykernel import kernelapp as app\n",
      "C:\\Anaconda3\\lib\\site-packages\\ipykernel\\__main__.py:3: SettingWithCopyWarning: \n",
      "A value is trying to be set on a copy of a slice from a DataFrame\n",
      "\n",
      "See the caveats in the documentation: http://pandas.pydata.org/pandas-docs/stable/indexing.html#indexing-view-versus-copy\n",
      "  app.launch_new_instance()\n",
      "C:\\Anaconda3\\lib\\site-packages\\ipykernel\\__main__.py:4: SettingWithCopyWarning: \n",
      "A value is trying to be set on a copy of a slice from a DataFrame\n",
      "\n",
      "See the caveats in the documentation: http://pandas.pydata.org/pandas-docs/stable/indexing.html#indexing-view-versus-copy\n",
      "C:\\Anaconda3\\lib\\site-packages\\ipykernel\\__main__.py:5: SettingWithCopyWarning: \n",
      "A value is trying to be set on a copy of a slice from a DataFrame\n",
      "\n",
      "See the caveats in the documentation: http://pandas.pydata.org/pandas-docs/stable/indexing.html#indexing-view-versus-copy\n"
     ]
    },
    {
     "name": "stdout",
     "output_type": "stream",
     "text": [
      "Sudeste         105128\n",
      "Nordeste        104597\n",
      "Norte            59187\n",
      "Sul              56116\n",
      "Centro-Oeste     37527\n",
      "dtype: int64 \n",
      "\n"
     ]
    },
    {
     "data": {
      "text/plain": [
       "<matplotlib.text.Text at 0x1e19e970320>"
      ]
     },
     "execution_count": 5,
     "metadata": {},
     "output_type": "execute_result"
    },
    {
     "data": {
      "image/png": "[encoded data removed]",
      "text/plain": [
       "<matplotlib.figure.Figure at 0x1e1825246d8>"
      ]
     },
     "metadata": {},
     "output_type": "display_data"
    }
   ],
   "source": [
    "dados.regiao[(dados.UF2 >= 10) & (dados.UF2 < 20)] = 1\n",
    "dados.regiao[(dados.UF2 >= 20) & (dados.UF2 < 30)] = 2\n",
    "dados.regiao[(dados.UF2 >= 30) & (dados.UF2 < 40)] = 3\n",
    "dados.regiao[(dados.UF2 >= 40) & (dados.UF2 < 50)] = 4\n",
    "dados.regiao[(dados.UF2 >= 50) & (dados.UF2 < 60)] = 5\n",
    "\n",
    "dados.regiao = dados.regiao.astype('category')\n",
    "dados.regiao.cat.categories = ('Norte', 'Nordeste', 'Sudeste', 'Sul', 'Centro-Oeste')\n",
    "\n",
    "ut25 = dados.regiao.value_counts().round(decimals=1)\n",
    "print(ut25,'\\n')\n",
    "\n",
    "plot = ut25.plot(kind='bar',title='Regiao',figsize=(6, 6),color=('b','g','k','r','m','c','y'))\n",
    "plt.ylabel('Freq.Relativa (em%)')\n",
    "plt.xlabel('Regiões')"
   ]
  },
  {
   "cell_type": "code",
   "execution_count": null,
   "metadata": {
    "collapsed": false,
    "scrolled": true
   },
   "outputs": [],
   "source": [
    "dados[\"salario\"] = dados.V4742[(dados.V4742 < 100000) & (dados.V4742 > 0)]\n",
    "\n",
    "d = dados.dropna()\n",
    "\n",
    "d.salario = dados.salario.astype('float')\n",
    "\n",
    "d.salario.describe()"
   ]
  },
  {
   "cell_type": "code",
   "execution_count": null,
   "metadata": {
    "collapsed": false,
    "scrolled": false
   },
   "outputs": [],
   "source": [
    "faixa1=range(0,82000,1000)\n",
    "Freq=pd.cut(d.salario,faixa1)\n",
    "a1=Freq.value_counts()"
   ]
  },
  {
   "cell_type": "code",
   "execution_count": null,
   "metadata": {
    "collapsed": false,
    "scrolled": true
   },
   "outputs": [],
   "source": [
    "plot =d.salario.plot.hist(bins=faixa1,normed=1,color=('m'))"
   ]
  },
  {
   "cell_type": "code",
   "execution_count": null,
   "metadata": {
    "collapsed": false,
    "scrolled": true
   },
   "outputs": [],
   "source": [
    "faixa2= range(0,10000,200)\n",
    "freq2=pd.cut(d.salario,faixa2)\n",
    "a2=freq2.value_counts()\n",
    "plot =d.salario.plot.hist(bins=faixa2,color=('c'))"
   ]
  },
  {
   "cell_type": "code",
   "execution_count": null,
   "metadata": {
    "collapsed": false
   },
   "outputs": [],
   "source": [
    "Q = pd.crosstab(dados.regiao,d.salario)\n",
    "Q\n",
    "#plot = Q.plot(kind='bar',title='Regiao',figsize=(6, 6),color=('b','g','k','r','m','c','y'))"
   ]
  },
  {
   "cell_type": "code",
   "execution_count": null,
   "metadata": {
    "collapsed": true
   },
   "outputs": [],
   "source": []
  }
 ],
 "metadata": {
  "anaconda-cloud": {},
  "kernelspec": {
   "display_name": "Python 3",
   "language": "python",
   "name": "python3"
  },
  "language_info": {
   "codemirror_mode": {
    "name": "ipython",
    "version": 3
   },
   "file_extension": ".py",
   "mimetype": "text/x-python",
   "name": "python",
   "nbconvert_exporter": "python",
   "pygments_lexer": "ipython3",
   "version": "3.5.1"
  }
 },
 "nbformat": 4,
 "nbformat_minor": 0
}
