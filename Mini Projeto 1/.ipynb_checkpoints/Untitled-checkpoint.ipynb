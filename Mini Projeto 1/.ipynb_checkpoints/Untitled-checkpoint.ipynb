{
 "cells": [
  {
   "cell_type": "code",
   "execution_count": 3,
   "metadata": {
    "collapsed": false
   },
   "outputs": [
    {
     "name": "stdout",
     "output_type": "stream",
     "text": [
      "Esperamos trabalhar no diretório\n",
      "C:\\Users\\João Rodrigues\\Documents\\Ciencia dos Dados\\CD\\Mini Projeto 1\n"
     ]
    }
   ],
   "source": [
    "%matplotlib inline\n",
    "import pandas as pd\n",
    "import matplotlib.pyplot as plt\n",
    "import numpy as np\n",
    "import os\n",
    "from scipy import stats\n",
    "\n",
    "print('Esperamos trabalhar no diretório')\n",
    "print(os.getcwd())"
   ]
  },
  {
   "cell_type": "code",
   "execution_count": 29,
   "metadata": {
    "collapsed": false
   },
   "outputs": [],
   "source": [
    "data = pd.read_excel('pib_mundial.xlsx')"
   ]
  },
  {
   "cell_type": "code",
   "execution_count": 31,
   "metadata": {
    "collapsed": false
   },
   "outputs": [],
   "source": [
    "data[\"brasil\"] = data.iloc[27,4:60].astype(float)"
   ]
  },
  {
   "cell_type": "code",
   "execution_count": 59,
   "metadata": {
    "collapsed": false
   },
   "outputs": [
    {
     "data": {
      "text/plain": [
       "A1960    1.516557e+14\n",
       "A1961    1.523685e+13\n",
       "A1962    1.992629e+14\n",
       "A1963    2.302148e+14\n",
       "A1964    2.121189e+14\n",
       "A1965    2.179004e+10\n",
       "A1966    2.706272e+14\n",
       "A1967    3.059183e+14\n",
       "A1968    3.387588e+14\n",
       "A1969    3.745890e+14\n",
       "A1970    4.232760e+14\n",
       "A1971    4.920446e+14\n",
       "A1972    5.853901e+14\n",
       "A1973    7.927906e+13\n",
       "A1974    1.051360e+11\n",
       "A1975    1.237094e+11\n",
       "A1976    1.526780e+14\n",
       "A1977    1.761713e+14\n",
       "A1978    2.008009e+14\n",
       "A1979    2.249695e+14\n",
       "A1980    2.350246e+14\n",
       "A1981    2.635611e+14\n",
       "A1982    2.816823e+14\n",
       "A1983    2.033045e+14\n",
       "A1984    2.090239e+14\n",
       "A1985    2.229428e+14\n",
       "A1986    2.681372e+14\n",
       "A1987    2.940841e+11\n",
       "A1988    3.303974e+14\n",
       "A1989    4.255953e+11\n",
       "A1990    4.619518e+11\n",
       "A1991    6.028600e+11\n",
       "A1992    4.005992e+11\n",
       "A1993    4.377986e+14\n",
       "A1994    5.581120e+14\n",
       "A1995    7.856435e+14\n",
       "A1996    8.504258e+14\n",
       "A1997    8.831994e+14\n",
       "A1998    8.637234e+14\n",
       "A1999    5.993889e+14\n",
       "A2000    6.554212e+14\n",
       "A2001    5.593725e+14\n",
       "A2002    5.079627e+14\n",
       "A2003    5.583201e+14\n",
       "A2004    6.693162e+14\n",
       "A2005    8.916300e+14\n",
       "A2006    1.107640e+12\n",
       "A2007    1.397084e+12\n",
       "A2008    1.695825e+12\n",
       "A2009    1.667020e+12\n",
       "A2010    2.208872e+12\n",
       "A2011    2.614573e+12\n",
       "A2012    2.460658e+12\n",
       "A2013    2.465774e+12\n",
       "A2014    2.417046e+12\n",
       "A2015    1.774725e+12\n",
       "Name: 27, dtype: float64"
      ]
     },
     "execution_count": 59,
     "metadata": {},
     "output_type": "execute_result"
    }
   ],
   "source": [
    "A=data.iloc[27,4:60].astype(float)\n",
    "A"
   ]
  },
  {
   "cell_type": "code",
   "execution_count": 46,
   "metadata": {
    "collapsed": false
   },
   "outputs": [
    {
     "data": {
      "text/plain": [
       "count    5.600000e+01\n",
       "mean     2.730290e+14\n",
       "std      2.739563e+14\n",
       "min      2.179004e+10\n",
       "25%      2.365003e+12\n",
       "50%      2.175309e+14\n",
       "75%      4.513601e+14\n",
       "max      8.916300e+14\n",
       "Name: 27, dtype: float64"
      ]
     },
     "execution_count": 46,
     "metadata": {},
     "output_type": "execute_result"
    }
   ],
   "source": [
    "A.describe()"
   ]
  },
  {
   "cell_type": "code",
   "execution_count": 66,
   "metadata": {
    "collapsed": false
   },
   "outputs": [
    {
     "data": {
      "text/plain": [
       "<matplotlib.axes._subplots.AxesSubplot at 0x1b691c390b8>"
      ]
     },
     "execution_count": 66,
     "metadata": {},
     "output_type": "execute_result"
    },
    {
     "data": {
      "image/png": "[encoded data removed]",
      "text/plain": [
       "<matplotlib.figure.Figure at 0x1b691caf710>"
      ]
     },
     "metadata": {},
     "output_type": "display_data"
    }
   ],
   "source": [
    "A.plot.hist(bins=10)"
   ]
  },
  {
   "cell_type": "code",
   "execution_count": null,
   "metadata": {
    "collapsed": true
   },
   "outputs": [],
   "source": []
  },
  {
   "cell_type": "code",
   "execution_count": null,
   "metadata": {
    "collapsed": true
   },
   "outputs": [],
   "source": []
  }
 ],
 "metadata": {
  "kernelspec": {
   "display_name": "Python 3",
   "language": "python",
   "name": "python3"
  },
  "language_info": {
   "codemirror_mode": {
    "name": "ipython",
    "version": 3
   },
   "file_extension": ".py",
   "mimetype": "text/x-python",
   "name": "python",
   "nbconvert_exporter": "python",
   "pygments_lexer": "ipython3",
   "version": "3.5.1"
  }
 },
 "nbformat": 4,
 "nbformat_minor": 0
}
